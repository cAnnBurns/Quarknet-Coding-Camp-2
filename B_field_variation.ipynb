{
  "cells": [
    {
      "cell_type": "markdown",
      "metadata": {
        "id": "hipZZMaW_Va9"
      },
      "source": [
        "# B-Field Variation\n",
        "Does the magnetic field around your workspace have the same magnitude as outside? Perform an investigation to answer that and replace the **pseudocode** below with a [Holmes' t' analysis](https://docs.google.com/document/d/1cjAfYwbG4IrwirHMPnvo87ZYdPTXBAWQAny4b1eVclE/edit?usp=sharing) of data you collect."
      ]
    },
    {
      "cell_type": "code",
      "execution_count": 21,
      "metadata": {
        "id": "VCuqYh-b_VbB"
      },
      "outputs": [],
      "source": [
        "# import modules needed\n",
        "import numpy as np #importing calculation features\n",
        "import matplotlib as mpl #imports graphing capabilities\n",
        "import matplotlib.pyplot as plt #analyzing graphs\n",
        "import pandas as pd\n"
      ]
    },
    {
      "cell_type": "code",
      "source": [
        "#outside data - magnetic field data taken standing outside\n",
        "Outside = pd.read_excel('https://docs.google.com/spreadsheets/d/1V4xyaZaIOMhXCcWnarzxeuZNHYCt_EsyHZ1D9dteZHw/export')\n",
        "Outside.head(2)"
      ],
      "metadata": {
        "id": "tbbxmTPF8sTg",
        "outputId": "2ec7513b-e70c-433d-ea04-d11ea2cc8a7b",
        "colab": {
          "base_uri": "https://localhost:8080/",
          "height": 112
        }
      },
      "execution_count": 22,
      "outputs": [
        {
          "output_type": "execute_result",
          "data": {
            "text/plain": [
              "   Time (s)  Magnetic Field x (µT)  Magnetic Field y (µT)  \\\n",
              "0  0.000000              10.022499             -27.124558   \n",
              "1  0.009942               9.818909             -27.253632   \n",
              "\n",
              "   Magnetic Field z (µT)  Absolute field (µT)  \n",
              "0             -34.864563            45.296025  \n",
              "1             -34.933777            45.382157  "
            ],
            "text/html": [
              "\n",
              "  <div id=\"df-d2db758b-9477-4efd-8c1d-6f0fccb2e0b6\">\n",
              "    <div class=\"colab-df-container\">\n",
              "      <div>\n",
              "<style scoped>\n",
              "    .dataframe tbody tr th:only-of-type {\n",
              "        vertical-align: middle;\n",
              "    }\n",
              "\n",
              "    .dataframe tbody tr th {\n",
              "        vertical-align: top;\n",
              "    }\n",
              "\n",
              "    .dataframe thead th {\n",
              "        text-align: right;\n",
              "    }\n",
              "</style>\n",
              "<table border=\"1\" class=\"dataframe\">\n",
              "  <thead>\n",
              "    <tr style=\"text-align: right;\">\n",
              "      <th></th>\n",
              "      <th>Time (s)</th>\n",
              "      <th>Magnetic Field x (µT)</th>\n",
              "      <th>Magnetic Field y (µT)</th>\n",
              "      <th>Magnetic Field z (µT)</th>\n",
              "      <th>Absolute field (µT)</th>\n",
              "    </tr>\n",
              "  </thead>\n",
              "  <tbody>\n",
              "    <tr>\n",
              "      <th>0</th>\n",
              "      <td>0.000000</td>\n",
              "      <td>10.022499</td>\n",
              "      <td>-27.124558</td>\n",
              "      <td>-34.864563</td>\n",
              "      <td>45.296025</td>\n",
              "    </tr>\n",
              "    <tr>\n",
              "      <th>1</th>\n",
              "      <td>0.009942</td>\n",
              "      <td>9.818909</td>\n",
              "      <td>-27.253632</td>\n",
              "      <td>-34.933777</td>\n",
              "      <td>45.382157</td>\n",
              "    </tr>\n",
              "  </tbody>\n",
              "</table>\n",
              "</div>\n",
              "      <button class=\"colab-df-convert\" onclick=\"convertToInteractive('df-d2db758b-9477-4efd-8c1d-6f0fccb2e0b6')\"\n",
              "              title=\"Convert this dataframe to an interactive table.\"\n",
              "              style=\"display:none;\">\n",
              "        \n",
              "  <svg xmlns=\"http://www.w3.org/2000/svg\" height=\"24px\"viewBox=\"0 0 24 24\"\n",
              "       width=\"24px\">\n",
              "    <path d=\"M0 0h24v24H0V0z\" fill=\"none\"/>\n",
              "    <path d=\"M18.56 5.44l.94 2.06.94-2.06 2.06-.94-2.06-.94-.94-2.06-.94 2.06-2.06.94zm-11 1L8.5 8.5l.94-2.06 2.06-.94-2.06-.94L8.5 2.5l-.94 2.06-2.06.94zm10 10l.94 2.06.94-2.06 2.06-.94-2.06-.94-.94-2.06-.94 2.06-2.06.94z\"/><path d=\"M17.41 7.96l-1.37-1.37c-.4-.4-.92-.59-1.43-.59-.52 0-1.04.2-1.43.59L10.3 9.45l-7.72 7.72c-.78.78-.78 2.05 0 2.83L4 21.41c.39.39.9.59 1.41.59.51 0 1.02-.2 1.41-.59l7.78-7.78 2.81-2.81c.8-.78.8-2.07 0-2.86zM5.41 20L4 18.59l7.72-7.72 1.47 1.35L5.41 20z\"/>\n",
              "  </svg>\n",
              "      </button>\n",
              "      \n",
              "  <style>\n",
              "    .colab-df-container {\n",
              "      display:flex;\n",
              "      flex-wrap:wrap;\n",
              "      gap: 12px;\n",
              "    }\n",
              "\n",
              "    .colab-df-convert {\n",
              "      background-color: #E8F0FE;\n",
              "      border: none;\n",
              "      border-radius: 50%;\n",
              "      cursor: pointer;\n",
              "      display: none;\n",
              "      fill: #1967D2;\n",
              "      height: 32px;\n",
              "      padding: 0 0 0 0;\n",
              "      width: 32px;\n",
              "    }\n",
              "\n",
              "    .colab-df-convert:hover {\n",
              "      background-color: #E2EBFA;\n",
              "      box-shadow: 0px 1px 2px rgba(60, 64, 67, 0.3), 0px 1px 3px 1px rgba(60, 64, 67, 0.15);\n",
              "      fill: #174EA6;\n",
              "    }\n",
              "\n",
              "    [theme=dark] .colab-df-convert {\n",
              "      background-color: #3B4455;\n",
              "      fill: #D2E3FC;\n",
              "    }\n",
              "\n",
              "    [theme=dark] .colab-df-convert:hover {\n",
              "      background-color: #434B5C;\n",
              "      box-shadow: 0px 1px 3px 1px rgba(0, 0, 0, 0.15);\n",
              "      filter: drop-shadow(0px 1px 2px rgba(0, 0, 0, 0.3));\n",
              "      fill: #FFFFFF;\n",
              "    }\n",
              "  </style>\n",
              "\n",
              "      <script>\n",
              "        const buttonEl =\n",
              "          document.querySelector('#df-d2db758b-9477-4efd-8c1d-6f0fccb2e0b6 button.colab-df-convert');\n",
              "        buttonEl.style.display =\n",
              "          google.colab.kernel.accessAllowed ? 'block' : 'none';\n",
              "\n",
              "        async function convertToInteractive(key) {\n",
              "          const element = document.querySelector('#df-d2db758b-9477-4efd-8c1d-6f0fccb2e0b6');\n",
              "          const dataTable =\n",
              "            await google.colab.kernel.invokeFunction('convertToInteractive',\n",
              "                                                     [key], {});\n",
              "          if (!dataTable) return;\n",
              "\n",
              "          const docLinkHtml = 'Like what you see? Visit the ' +\n",
              "            '<a target=\"_blank\" href=https://colab.research.google.com/notebooks/data_table.ipynb>data table notebook</a>'\n",
              "            + ' to learn more about interactive tables.';\n",
              "          element.innerHTML = '';\n",
              "          dataTable['output_type'] = 'display_data';\n",
              "          await google.colab.output.renderOutput(dataTable, element);\n",
              "          const docLink = document.createElement('div');\n",
              "          docLink.innerHTML = docLinkHtml;\n",
              "          element.appendChild(docLink);\n",
              "        }\n",
              "      </script>\n",
              "    </div>\n",
              "  </div>\n",
              "  "
            ]
          },
          "metadata": {},
          "execution_count": 22
        }
      ]
    },
    {
      "cell_type": "code",
      "source": [
        "#inside data - magnetic field data taken in front of computer, inside\n",
        "Inside=pd.read_excel('https://docs.google.com/spreadsheets/d/15CakeihLsDmNrj_vANw1vp1nvunRLnJk/export')\n",
        "Inside.head(2)"
      ],
      "metadata": {
        "id": "XZaF9Nhe_2E-",
        "outputId": "ba267aad-e97c-4bc1-9b8b-85af307603e6",
        "colab": {
          "base_uri": "https://localhost:8080/",
          "height": 112
        }
      },
      "execution_count": 23,
      "outputs": [
        {
          "output_type": "execute_result",
          "data": {
            "text/plain": [
              "   Time (s)  Magnetic Field x (µT)  Magnetic Field y (µT)  \\\n",
              "0  0.000000               6.217964             -32.106735   \n",
              "1  0.009941               6.252235             -32.085457   \n",
              "\n",
              "   Magnetic Field z (µT)  Absolute field (µT)  \n",
              "0             -50.977966            60.566150  \n",
              "1             -50.966675            60.548897  "
            ],
            "text/html": [
              "\n",
              "  <div id=\"df-1fe21b31-d247-4e7a-880e-893369e2d07a\">\n",
              "    <div class=\"colab-df-container\">\n",
              "      <div>\n",
              "<style scoped>\n",
              "    .dataframe tbody tr th:only-of-type {\n",
              "        vertical-align: middle;\n",
              "    }\n",
              "\n",
              "    .dataframe tbody tr th {\n",
              "        vertical-align: top;\n",
              "    }\n",
              "\n",
              "    .dataframe thead th {\n",
              "        text-align: right;\n",
              "    }\n",
              "</style>\n",
              "<table border=\"1\" class=\"dataframe\">\n",
              "  <thead>\n",
              "    <tr style=\"text-align: right;\">\n",
              "      <th></th>\n",
              "      <th>Time (s)</th>\n",
              "      <th>Magnetic Field x (µT)</th>\n",
              "      <th>Magnetic Field y (µT)</th>\n",
              "      <th>Magnetic Field z (µT)</th>\n",
              "      <th>Absolute field (µT)</th>\n",
              "    </tr>\n",
              "  </thead>\n",
              "  <tbody>\n",
              "    <tr>\n",
              "      <th>0</th>\n",
              "      <td>0.000000</td>\n",
              "      <td>6.217964</td>\n",
              "      <td>-32.106735</td>\n",
              "      <td>-50.977966</td>\n",
              "      <td>60.566150</td>\n",
              "    </tr>\n",
              "    <tr>\n",
              "      <th>1</th>\n",
              "      <td>0.009941</td>\n",
              "      <td>6.252235</td>\n",
              "      <td>-32.085457</td>\n",
              "      <td>-50.966675</td>\n",
              "      <td>60.548897</td>\n",
              "    </tr>\n",
              "  </tbody>\n",
              "</table>\n",
              "</div>\n",
              "      <button class=\"colab-df-convert\" onclick=\"convertToInteractive('df-1fe21b31-d247-4e7a-880e-893369e2d07a')\"\n",
              "              title=\"Convert this dataframe to an interactive table.\"\n",
              "              style=\"display:none;\">\n",
              "        \n",
              "  <svg xmlns=\"http://www.w3.org/2000/svg\" height=\"24px\"viewBox=\"0 0 24 24\"\n",
              "       width=\"24px\">\n",
              "    <path d=\"M0 0h24v24H0V0z\" fill=\"none\"/>\n",
              "    <path d=\"M18.56 5.44l.94 2.06.94-2.06 2.06-.94-2.06-.94-.94-2.06-.94 2.06-2.06.94zm-11 1L8.5 8.5l.94-2.06 2.06-.94-2.06-.94L8.5 2.5l-.94 2.06-2.06.94zm10 10l.94 2.06.94-2.06 2.06-.94-2.06-.94-.94-2.06-.94 2.06-2.06.94z\"/><path d=\"M17.41 7.96l-1.37-1.37c-.4-.4-.92-.59-1.43-.59-.52 0-1.04.2-1.43.59L10.3 9.45l-7.72 7.72c-.78.78-.78 2.05 0 2.83L4 21.41c.39.39.9.59 1.41.59.51 0 1.02-.2 1.41-.59l7.78-7.78 2.81-2.81c.8-.78.8-2.07 0-2.86zM5.41 20L4 18.59l7.72-7.72 1.47 1.35L5.41 20z\"/>\n",
              "  </svg>\n",
              "      </button>\n",
              "      \n",
              "  <style>\n",
              "    .colab-df-container {\n",
              "      display:flex;\n",
              "      flex-wrap:wrap;\n",
              "      gap: 12px;\n",
              "    }\n",
              "\n",
              "    .colab-df-convert {\n",
              "      background-color: #E8F0FE;\n",
              "      border: none;\n",
              "      border-radius: 50%;\n",
              "      cursor: pointer;\n",
              "      display: none;\n",
              "      fill: #1967D2;\n",
              "      height: 32px;\n",
              "      padding: 0 0 0 0;\n",
              "      width: 32px;\n",
              "    }\n",
              "\n",
              "    .colab-df-convert:hover {\n",
              "      background-color: #E2EBFA;\n",
              "      box-shadow: 0px 1px 2px rgba(60, 64, 67, 0.3), 0px 1px 3px 1px rgba(60, 64, 67, 0.15);\n",
              "      fill: #174EA6;\n",
              "    }\n",
              "\n",
              "    [theme=dark] .colab-df-convert {\n",
              "      background-color: #3B4455;\n",
              "      fill: #D2E3FC;\n",
              "    }\n",
              "\n",
              "    [theme=dark] .colab-df-convert:hover {\n",
              "      background-color: #434B5C;\n",
              "      box-shadow: 0px 1px 3px 1px rgba(0, 0, 0, 0.15);\n",
              "      filter: drop-shadow(0px 1px 2px rgba(0, 0, 0, 0.3));\n",
              "      fill: #FFFFFF;\n",
              "    }\n",
              "  </style>\n",
              "\n",
              "      <script>\n",
              "        const buttonEl =\n",
              "          document.querySelector('#df-1fe21b31-d247-4e7a-880e-893369e2d07a button.colab-df-convert');\n",
              "        buttonEl.style.display =\n",
              "          google.colab.kernel.accessAllowed ? 'block' : 'none';\n",
              "\n",
              "        async function convertToInteractive(key) {\n",
              "          const element = document.querySelector('#df-1fe21b31-d247-4e7a-880e-893369e2d07a');\n",
              "          const dataTable =\n",
              "            await google.colab.kernel.invokeFunction('convertToInteractive',\n",
              "                                                     [key], {});\n",
              "          if (!dataTable) return;\n",
              "\n",
              "          const docLinkHtml = 'Like what you see? Visit the ' +\n",
              "            '<a target=\"_blank\" href=https://colab.research.google.com/notebooks/data_table.ipynb>data table notebook</a>'\n",
              "            + ' to learn more about interactive tables.';\n",
              "          element.innerHTML = '';\n",
              "          dataTable['output_type'] = 'display_data';\n",
              "          await google.colab.output.renderOutput(dataTable, element);\n",
              "          const docLink = document.createElement('div');\n",
              "          docLink.innerHTML = docLinkHtml;\n",
              "          element.appendChild(docLink);\n",
              "        }\n",
              "      </script>\n",
              "    </div>\n",
              "  </div>\n",
              "  "
            ]
          },
          "metadata": {},
          "execution_count": 23
        }
      ]
    },
    {
      "cell_type": "code",
      "source": [
        "plt.scatter(Inside['Time (s)'], Inside['Absolute field (µT)'])"
      ],
      "metadata": {
        "id": "_MaGBnBXZFjm",
        "outputId": "0fd29ba5-968e-4093-b69d-502c8ab4c768",
        "colab": {
          "base_uri": "https://localhost:8080/",
          "height": 282
        }
      },
      "execution_count": 24,
      "outputs": [
        {
          "output_type": "execute_result",
          "data": {
            "text/plain": [
              "<matplotlib.collections.PathCollection at 0x7f82f0c16e50>"
            ]
          },
          "metadata": {},
          "execution_count": 24
        },
        {
          "output_type": "display_data",
          "data": {
            "text/plain": [
              "<Figure size 432x288 with 1 Axes>"
            ],
            "image/png": "[encoded data removed]"
          },
          "metadata": {
            "needs_background": "light"
          }
        }
      ]
    },
    {
      "cell_type": "code",
      "source": [
        "#phone was moved when collecting data. First 10 seconds are when the phone was not moving, cut all data after t=10\n",
        "Inside=Inside.loc[Inside['Time (s)']<10]\n",
        "Inside.head(2)\n",
        "Inside.shape"
      ],
      "metadata": {
        "id": "zSapxUN9Ytgr",
        "outputId": "636f5d2d-9508-4538-caa5-58aff282040a",
        "colab": {
          "base_uri": "https://localhost:8080/"
        }
      },
      "execution_count": 25,
      "outputs": [
        {
          "output_type": "execute_result",
          "data": {
            "text/plain": [
              "(1006, 5)"
            ]
          },
          "metadata": {},
          "execution_count": 25
        }
      ]
    },
    {
      "cell_type": "code",
      "source": [
        "#trick from Emily for uploading data - lines 2-4 will result in a prompt that asks you to select the file\n",
        "#from google.colab import files\n",
        "#data_to_load = files.upload()\n",
        "#data.head(2)"
      ],
      "metadata": {
        "id": "Lxb7FezTRTku"
      },
      "execution_count": 26,
      "outputs": []
    },
    {
      "cell_type": "code",
      "source": [
        "plt.scatter(Inside['Time (s)'], Inside['Absolute field (µT)'])\n",
        "plt.ylim(40,80)"
      ],
      "metadata": {
        "id": "M9A2zJmVZmBC",
        "outputId": "ae2598f6-6460-45a9-92dc-824a2c47404c",
        "colab": {
          "base_uri": "https://localhost:8080/",
          "height": 286
        }
      },
      "execution_count": 27,
      "outputs": [
        {
          "output_type": "execute_result",
          "data": {
            "text/plain": [
              "(40.0, 80.0)"
            ]
          },
          "metadata": {},
          "execution_count": 27
        },
        {
          "output_type": "display_data",
          "data": {
            "text/plain": [
              "<Figure size 432x288 with 1 Axes>"
            ],
            "image/png": "[encoded data removed]"
          },
          "metadata": {
            "needs_background": "light"
          }
        }
      ]
    },
    {
      "cell_type": "code",
      "source": [
        "plt.scatter(Outside['Time (s)'], Outside[ 'Absolute field (µT)'])\n",
        "plt.ylim(40,60)"
      ],
      "metadata": {
        "id": "mOSDUv38Um-N",
        "outputId": "edb3a02e-1e56-4bfd-b073-52bdbbabe793",
        "colab": {
          "base_uri": "https://localhost:8080/",
          "height": 286
        }
      },
      "execution_count": 28,
      "outputs": [
        {
          "output_type": "execute_result",
          "data": {
            "text/plain": [
              "(40.0, 60.0)"
            ]
          },
          "metadata": {},
          "execution_count": 28
        },
        {
          "output_type": "display_data",
          "data": {
            "text/plain": [
              "<Figure size 432x288 with 1 Axes>"
            ],
            "image/png": "[encoded data removed]"
          },
          "metadata": {
            "needs_background": "light"
          }
        }
      ]
    },
    {
      "cell_type": "code",
      "source": [
        "plt.scatter(Inside['Time (s)'], Inside['Absolute field (µT)'],color='red', label='Inside', linestyle=\"--\")\n",
        "plt.scatter(Outside['Time (s)'], Outside[ 'Absolute field (µT)'], color='blue', label='Outside', linestyle=\"--\")\n",
        "plt.ylim(40,80)\n",
        "plt.legend()"
      ],
      "metadata": {
        "id": "lD6hR63oeqDB",
        "outputId": "cea19696-6bd5-4ed4-8c91-1edf9076f7ca",
        "colab": {
          "base_uri": "https://localhost:8080/",
          "height": 286
        }
      },
      "execution_count": 41,
      "outputs": [
        {
          "output_type": "execute_result",
          "data": {
            "text/plain": [
              "<matplotlib.legend.Legend at 0x7f82f0a2b150>"
            ]
          },
          "metadata": {},
          "execution_count": 41
        },
        {
          "output_type": "display_data",
          "data": {
            "text/plain": [
              "<Figure size 432x288 with 1 Axes>"
            ],
            "image/png": "[encoded data removed]"
          },
          "metadata": {
            "needs_background": "light"
          }
        }
      ]
    },
    {
      "cell_type": "code",
      "source": [
        "Inside['Absolute field (µT)'].describe()"
      ],
      "metadata": {
        "id": "FCShI3dshrUh",
        "outputId": "99551c7e-411d-4c2f-baf1-a335b28b8ea3",
        "colab": {
          "base_uri": "https://localhost:8080/"
        }
      },
      "execution_count": 30,
      "outputs": [
        {
          "output_type": "execute_result",
          "data": {
            "text/plain": [
              "count    1006.000000\n",
              "mean       60.243810\n",
              "std         0.269451\n",
              "min        59.361023\n",
              "25%        60.054449\n",
              "50%        60.253072\n",
              "75%        60.427633\n",
              "max        61.060270\n",
              "Name: Absolute field (µT), dtype: float64"
            ]
          },
          "metadata": {},
          "execution_count": 30
        }
      ]
    },
    {
      "cell_type": "code",
      "source": [
        "meanIn=np.mean(Inside['Absolute field (µT)'])\n",
        "stdIn=np.std(Inside['Absolute field (µT)'])\n",
        "countIn=len(Inside['Absolute field (µT)'])\n",
        "print (\"mean = \" ,meanIn)\n",
        "print(\"standard deviation = \", stdIn)\n",
        "print (\"count = \", countIn) "
      ],
      "metadata": {
        "id": "0RJl0hgajc4Y",
        "outputId": "742fd528-284c-4198-e9ab-a80c0d859f96",
        "colab": {
          "base_uri": "https://localhost:8080/"
        }
      },
      "execution_count": 31,
      "outputs": [
        {
          "output_type": "stream",
          "name": "stdout",
          "text": [
            "mean =  60.24381031159013\n",
            "standard deviation =  0.26931714828618686\n",
            "count =  1006\n"
          ]
        }
      ]
    },
    {
      "cell_type": "code",
      "source": [
        "Outside['Absolute field (µT)'].describe()"
      ],
      "metadata": {
        "id": "8L190MrLiR2Z",
        "outputId": "575d68a7-86ce-40aa-a39c-7d2c91409fbf",
        "colab": {
          "base_uri": "https://localhost:8080/"
        }
      },
      "execution_count": 32,
      "outputs": [
        {
          "output_type": "execute_result",
          "data": {
            "text/plain": [
              "count    3292.000000\n",
              "mean       44.502673\n",
              "std         0.355409\n",
              "min        43.234723\n",
              "25%        44.258138\n",
              "50%        44.510515\n",
              "75%        44.752774\n",
              "max        45.638123\n",
              "Name: Absolute field (µT), dtype: float64"
            ]
          },
          "metadata": {},
          "execution_count": 32
        }
      ]
    },
    {
      "cell_type": "code",
      "source": [
        "meanOut=np.mean(Outside['Absolute field (µT)'])\n",
        "stdOut=np.std(Outside['Absolute field (µT)'])\n",
        "countOut=len(Outside['Absolute field (µT)'])\n",
        "print (\"mean = \" ,meanOut)\n",
        "print(\"standard deviation = \", stdOut)\n",
        "print (\"count = \", countOut) "
      ],
      "metadata": {
        "id": "bFGXGgnQrP6P",
        "outputId": "ac6ab6bb-61f6-48fa-819a-780b75de8c8c",
        "colab": {
          "base_uri": "https://localhost:8080/"
        }
      },
      "execution_count": 38,
      "outputs": [
        {
          "output_type": "stream",
          "name": "stdout",
          "text": [
            "mean =  44.502672867967796\n",
            "standard deviation =  0.3553552645827795\n",
            "count =  3292\n"
          ]
        }
      ]
    },
    {
      "cell_type": "code",
      "source": [
        "#calculate standard uncertainity\n",
        "#standard uncertainity = standard deviation/square root of # of data points\n",
        "uncertIn = stdIn/(countIn**(-1/2))\n",
        "print(\"standard uncertainity inside = \" ,uncertIn)\n",
        "uncertOut = stdOut/(countOut**(-1/2))\n",
        "print(\"standard uncertainity Outside = \", uncertOut)"
      ],
      "metadata": {
        "id": "ei-gxfzYppAo",
        "outputId": "fad3a287-5678-49c3-a54f-80f9e4e010f9",
        "colab": {
          "base_uri": "https://localhost:8080/"
        }
      },
      "execution_count": 39,
      "outputs": [
        {
          "output_type": "stream",
          "name": "stdout",
          "text": [
            "standard uncertainity inside =  8.542067473344494\n",
            "standard uncertainity Outside =  20.388847012706904\n"
          ]
        }
      ]
    },
    {
      "cell_type": "code",
      "source": [
        "# calculate Holmes t'\n",
        "Holmes_t = (meanOut - meanIn)/((uncertIn)**(-1/2) + (uncertOut)**(-1/2))\n",
        "print(\"Holmes_t = \" , Holmes_t)"
      ],
      "metadata": {
        "id": "4FLM_U1IvKB2",
        "outputId": "a686789b-db0b-40cb-f04a-e0376adb469d",
        "colab": {
          "base_uri": "https://localhost:8080/"
        }
      },
      "execution_count": 42,
      "outputs": [
        {
          "output_type": "stream",
          "name": "stdout",
          "text": [
            "Holmes_t =  -27.928842939697237\n"
          ]
        }
      ]
    },
    {
      "cell_type": "code",
      "execution_count": 34,
      "metadata": {
        "id": "hnyrqsR__VbD"
      },
      "outputs": [],
      "source": [
        "# vizualize data to highlight relvant pattern"
      ]
    },
    {
      "cell_type": "code",
      "execution_count": 35,
      "metadata": {
        "id": "xjWTtjcg_VbE"
      },
      "outputs": [],
      "source": [
        "# answer the research question in claim-evidence-reasoning style"
      ]
    },
    {
      "cell_type": "markdown",
      "source": [
        "the magnetic fields are not the same. The Holmes t' value is greater than 3."
      ],
      "metadata": {
        "id": "lqkLp8IzxEVU"
      }
    },
    {
      "cell_type": "markdown",
      "metadata": {
        "id": "oRia0lDw_VbE"
      },
      "source": [
        "# When you're ready ...\n",
        "Check in with a workshop facilitator and give them a link to an interactive version of this notebook. Be sure it doesn't give edit priviledges."
      ]
    }
  ],
  "metadata": {
    "kernelspec": {
      "display_name": "Python 3 (ipykernel)",
      "language": "python",
      "name": "python3"
    },
    "language_info": {
      "codemirror_mode": {
        "name": "ipython",
        "version": 3
      },
      "file_extension": ".py",
      "mimetype": "text/x-python",
      "name": "python",
      "nbconvert_exporter": "python",
      "pygments_lexer": "ipython3",
      "version": "3.9.7"
    },
    "colab": {
      "name": "B_field_variation.ipynb",
      "provenance": []
    }
  },
  "nbformat": 4,
  "nbformat_minor": 0
}